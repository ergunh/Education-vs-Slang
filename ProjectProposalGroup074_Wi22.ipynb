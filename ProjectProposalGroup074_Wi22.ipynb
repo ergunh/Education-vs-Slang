{
  "cells": [
    {
      "cell_type": "markdown",
      "metadata": {
        "id": "vPENABnE_iRP"
      },
      "source": [
        "# COGS 108 - Final Project Proposal"
      ]
    },
    {
      "cell_type": "markdown",
      "metadata": {
        "id": "OmI2U3U2_iRQ"
      },
      "source": [
        "# Names\n",
        "\n",
        "- Helin Ergun\n",
        "- Maricela Vasquez\n",
        "- Sathvik Kaliyur\n",
        "- Kalaina Anderes\n",
        "- Nicholas Yamashita"
      ]
    },
    {
      "cell_type": "markdown",
      "metadata": {
        "id": "9PrlWP98_iRQ"
      },
      "source": [
        "# Research Question"
      ]
    },
    {
      "cell_type": "markdown",
      "metadata": {
        "id": "pnFe8bWI_iRR"
      },
      "source": [
        "The effects of viral hits on contemporary lexicon. Measuring the relationships between the speed, gravity, education, genre, and geographic areas. How do viral hits (defined by apperance in the top 100 ratings) spread into the American Population. In asking how we are asking what is the rate of spread over time, and in what type of areas do music of a given genre tend to spread first. Type of areas is defined as counties and the extent to which they are Urban vs Rural (as measured by the government's ruralness index (1-10 scale), and to the extent that they are college educated (% of population that has compelted a bachelors degree or above) The time frame for this is within the year 2019."
      ]
    },
    {
      "cell_type": "markdown",
      "metadata": {
        "id": "cneG5h6T_iRR"
      },
      "source": [
        "## Background and Prior Work"
      ]
    },
    {
      "cell_type": "markdown",
      "metadata": {
        "id": "G6o2WPiA_iRR"
      },
      "source": [
        "\n",
        "In this country today, there is increasing polarization among urban and rural areas, and among college educated and non college educated voters. This polarization is most apparent in the political arena where in college educated voters and non college voters are continuiously tending in the opposite direction. In the cultural arena, it seems as if Americans are starkly divided and that we live in cultural bubbles. This phenomenon coupled with the interest in music, and political/ socio-culutrual trends among members of our group drove us to investigate how viral music tends to spread through the United States. There has been some research asking how social status, demographics, and politcal orientations correlate with music preference, but none that has looked actively at how music spreads throughout society. For example, one study found that in the 2016 primaries, enjoyment of rap music correlated with support for Bernie Sanders, and negativley correlated with support for Ted Cruz, while Religious music displayed the opposite phenomenon. We seek to go beyond the political arena to understand the overall cultural implications of music transmission and therefore, we are looking at education rates and level of urbanization to get to the root factors that have been identified by a bulk of work as key in creating the polarized American society we live in today.\n",
        "\n",
        "We are all of course current college students whom enjoy music. In navigating our world, it would be interesting to see the social and societal impacts of the music we listen to. Nicholas & Maricela is familiar working with API's and scraping data. Kalaina is familiar with working with databases, storing and retrieving data. Sathvik is heavily entrached in the political atmosphere, thus a familiarity with possible avenues of exploration. Sathvik is very keen on finding societal data, and good at operationalizing abstract variables/topics. With the abundant data found, Helin has a knack for processing, organizing, and plotting data. We are all excited to use education data such as: https://data.ers.usda.gov/reports.aspx?ID=17829 to help us create a more clear and less bias picture of music-to-lexicon impact.\n",
        "\n",
        "References (include links):\n",
        "- 1) https://stars.library.ucf.edu/cgi/viewcontent.cgi?referer=&httpsredir=1&article=1168&context=honorstheses\n",
        "- 2) https://www.theatlantic.com/politics/archive/2014/02/why-americans-are-so-polarized-education-and-evolution/284098/"
      ]
    },
    {
      "cell_type": "markdown",
      "metadata": {
        "id": "uKU0Med7_iRS"
      },
      "source": [
        "# Hypothesis\n"
      ]
    },
    {
      "cell_type": "markdown",
      "metadata": {
        "id": "E6MoBZ6w_iRS"
      },
      "source": [
        "We expect to find that the more viral a song is, the faster it will spread and be adopted into modern lexicon. This is rather intuitive as the greater the reach a cultural artificat has, the greater impact it is likely to have on culture as a whole. In terms of how viral music spreads, we predict that viral music in genres such as country music or religous music will likley propogate faster in rural areas and areas with lower rates of college education. This prediction is based on prior research in this field, which shows that preference for these types of genres tends to correlate negatively with education. In contrast, we hypothesize that hits in genres such as hip-hop and rock and roll would likely spread faster among more urban populations, while hits in pop music and jazz would spread faster among more educated populations. These predictions are also based on research that show that preference correlations line up with the suggested breakdowns. Overall, the research in this field also suggests that most other genres do not have nearly as strong preference correlations, and thus, we do not expect the spread of other genres of music to have any strong relationship with urbanization or education.\n",
        "\n"
      ]
    },
    {
      "cell_type": "markdown",
      "metadata": {
        "id": "S2VZPbT__iRS"
      },
      "source": [
        "# Data"
      ]
    },
    {
      "cell_type": "markdown",
      "metadata": {
        "id": "WQlsGmlA_iRT"
      },
      "source": [
        "\n",
        "\n",
        "*Explain what the ideal dataset you would want to answer this question. (This should include: What variables? How many observations? Who/what/how would these data be collected? How would these data be stored/organized?)*\n",
        "\n",
        "\n",
        "The ideal data set for county level education data would contain the college education rates for every single county in the United States. It would also contain a variable for each state so that we know which counties correspond to which state. Other variables that would be attached would be % of county residents that did not graduate high school, the % that graduated high school, % that have some level of college education, % with an associates degree, % with a bachelors degree, and % with a a post-graduate degree so that we could get a full understanding of how educated each county in our data set would be. Ideally, an entity like the U.S. govenrment would have this data in a semi-structured or structured format that could easily be downloaded into a csv file. Luckily, the Federal government has a dataset with all of the neccesary requirements - it needs to be cleaned so that all counties in every state appear in the same table, but all of the information that is needed is available. Similarly with level of urbanization, it would be ideal if the govenrment already had an index that measured the level of urbanization of every county in the U.S., and also indicated which state each county was in. This should also be in a csv fie. This data exists on the same database as the education data, but also needs to be cleaned so that every county is linked with its state.\n",
        "\n",
        "The ideal music datasets would consist of viral songs and their attributes, songs said lyrics, and a modern culture corpus. The first would be a set of songs that has attached: geographic data, plays/views, age range, genre, playtime… all measured against time. We will work with Spotify & YouTube API which will be in JSON format and we will be converting into CSV. We will also scrape YouTube if needed. We will also scrape Genius for the lyrics of the songs to have the specific words that we will be finding in the lexicon. We will also be scraping Twitter, as it is a type of representation of modern lexicon that contains attributes such as: tweet, time/date, and geolocation that will be initially scraped into CSV format. We will need to clean, process and merge two of the three music datasets. "
      ]
    },
    {
      "cell_type": "markdown",
      "metadata": {
        "id": "mWxhniSx_iRT"
      },
      "source": [
        "# Ethics & Privacy"
      ]
    },
    {
      "cell_type": "markdown",
      "metadata": {
        "id": "Sc9yDeLQ_iRT"
      },
      "source": [
        "While there is not a distinct form of identifiable information that can target an individual, the data does specify a geographical region and their educational level. The educational and urban rural divides in this country are among the most stark and contentious, and thus even with a cultural topic like this, we must make sure that we are not inflaming steorotypes or pre-existing biases about people from various socio-economic walks of life. In addition, in particularly small counties, there are risks just by the nature of their size, we reveal the educational status of individuals.\n",
        "\n",
        "While the data we’ll be using won’t have any personal identifying information, it’s possible that education could be misrepresented in urban vs country areas. We may have to break up data and group certain variables differently to prevent the misrepresentation. Next, there may be lexical gravitation to certain words or phrases based upon the music listeners due to their geographical region and whether the individual is a resident in an urban vs rural area. The musical demographics may turn out to be biased in its representation due to the varying music tastes among the different states in the U.S. By using Spotify’s Top U.S. music charts instead of the viral charts which are made using global data, we can prevent working with a biased playlist. Different genres of music may also not be represented equally depending on the density (population) of the location, which can greatly alter outcomes. It’s also possible that there may be real estate discrepancies in regions in reference to education level which could affect the different genres of music the people in the region listens to. Our approach will be to have as specific of a target audience as possible, within each of our subsets (geography, music type, education level),  to draw compelling conclusions from our data."
      ]
    },
    {
      "cell_type": "markdown",
      "metadata": {
        "id": "qteQAUlh_iRT"
      },
      "source": [
        "# Team Expectations "
      ]
    },
    {
      "cell_type": "markdown",
      "metadata": {
        "id": "QgO_uTJA_iRU"
      },
      "source": [
        "* Expectation 1: Complete assigned tasks/ be accountable for work \n",
        "* Expectation 2: Split tasks evenly among all group members\n",
        "* Expectation 3: If someone gets stuck on their section, other team members could assist so the project may continue to move forward.\n",
        "* Expectation 4: Show up to Zoom meetings.\n",
        "* Expectation 5: Being open to constructive feedback.\n",
        "* Communication through Slack and email."
      ]
    },
    {
      "cell_type": "markdown",
      "metadata": {
        "id": "qgeCCN1H_iRU"
      },
      "source": [
        "# Project Timeline Proposal"
      ]
    },
    {
      "cell_type": "markdown",
      "metadata": {
        "id": "gPKDSWB_WGNs"
      },
      "source": [
        "| Meeting Date  | Meeting Time| Completed Before Meeting  | Discuss at Meeting |\n",
        "|---|---|---|---|\n",
        "| 2/2  |  9 PM | Have most of the relevent data scraped  | Start looking through the data and planning our analysis, looking at packages to use and cleaning data. | \n",
        "| 2/9  |  9 PM |  work on assigned tasks | Finish any data processing, begin analysis| \n",
        "| 2/16  | 9 PM  | Start looking for trends  | Continue looking for trends and beging Notebook project write up   |\n",
        "| 2/23  | 9 PM  | Fix small error that occur. Complete assigned tasks | Beging plotting datam and making graphs to tel a story   |\n",
        "| 3/2  | 9 PM  | Finish our assigned tasks that we did not do during last discussion | Work on final project Notebook. Start really writing findings |\n",
        "| 3/9  | 9 PM  | Spellcheck, edit, re-write our work| Finish out the bulk of the project wirting, do the ethics sections and conclusion. Make video/edit |\n",
        "| 3/14  | Before 11:59 PM  | Review our work, talk through Slack for any last edits | Turn in Final Project & Group Project Surveys |"
      ]
    }
  ],
  "metadata": {
    "kernelspec": {
      "display_name": "Python 3",
      "language": "python",
      "name": "python3"
    },
    "language_info": {
      "codemirror_mode": {
        "name": "ipython",
        "version": 3
      },
      "file_extension": ".py",
      "mimetype": "text/x-python",
      "name": "python",
      "nbconvert_exporter": "python",
      "pygments_lexer": "ipython3",
      "version": "3.7.9"
    },
    "colab": {
      "name": "ProjectProposalGroup074-Wi22.ipynb",
      "provenance": [],
      "collapsed_sections": []
    }
  },
  "nbformat": 4,
  "nbformat_minor": 0
}